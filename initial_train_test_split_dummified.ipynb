{
 "cells": [
  {
   "cell_type": "code",
   "execution_count": 27,
   "id": "59149663",
   "metadata": {},
   "outputs": [],
   "source": [
    "import pandas as pd\n",
    "import numpy as np\n",
    "from matplotlib import pyplot as plt\n",
    "%matplotlib inline"
   ]
  },
  {
   "cell_type": "code",
   "execution_count": 2,
   "id": "843a1d96",
   "metadata": {},
   "outputs": [
    {
     "name": "stderr",
     "output_type": "stream",
     "text": [
      "/Users/jamesreno/opt/anaconda3/lib/python3.9/site-packages/IPython/core/interactiveshell.py:3444: DtypeWarning: Columns (36,40,81,87) have mixed types.Specify dtype option on import or set low_memory=False.\n",
      "  exec(code_obj, self.user_global_ns, self.user_ns)\n"
     ]
    }
   ],
   "source": [
    "ahp = pd.read_csv('Ames_HousePrice.csv')\n",
    "ared = pd.read_csv('Ames Real Estate Data.csv')"
   ]
  },
  {
   "cell_type": "code",
   "execution_count": 41,
   "id": "b4ccc461",
   "metadata": {},
   "outputs": [],
   "source": [
    "pd.set_option('display.max_rows', None)\n",
    "pd.set_option(\"display.max_columns\", None)\n"
   ]
  },
  {
   "cell_type": "code",
   "execution_count": 14,
   "id": "a3c6f33c",
   "metadata": {},
   "outputs": [
    {
     "data": {
      "text/plain": [
       "Index(['Unnamed: 0', 'PID', 'GrLivArea', 'SalePrice', 'MSSubClass', 'MSZoning',\n",
       "       'LotFrontage', 'LotArea', 'Street', 'Alley', 'LotShape', 'LandContour',\n",
       "       'Utilities', 'LotConfig', 'LandSlope', 'Neighborhood', 'Condition1',\n",
       "       'Condition2', 'BldgType', 'HouseStyle', 'OverallQual', 'OverallCond',\n",
       "       'YearBuilt', 'YearRemodAdd', 'RoofStyle', 'RoofMatl', 'Exterior1st',\n",
       "       'Exterior2nd', 'MasVnrType', 'MasVnrArea', 'ExterQual', 'ExterCond',\n",
       "       'Foundation', 'BsmtQual', 'BsmtCond', 'BsmtExposure', 'BsmtFinType1',\n",
       "       'BsmtFinSF1', 'BsmtFinType2', 'BsmtFinSF2', 'BsmtUnfSF', 'TotalBsmtSF',\n",
       "       'Heating', 'HeatingQC', 'CentralAir', 'Electrical', '1stFlrSF',\n",
       "       '2ndFlrSF', 'LowQualFinSF', 'BsmtFullBath', 'BsmtHalfBath', 'FullBath',\n",
       "       'HalfBath', 'BedroomAbvGr', 'KitchenAbvGr', 'KitchenQual',\n",
       "       'TotRmsAbvGrd', 'Functional', 'Fireplaces', 'FireplaceQu', 'GarageType',\n",
       "       'GarageYrBlt', 'GarageFinish', 'GarageCars', 'GarageArea', 'GarageQual',\n",
       "       'GarageCond', 'PavedDrive', 'WoodDeckSF', 'OpenPorchSF',\n",
       "       'EnclosedPorch', '3SsnPorch', 'ScreenPorch', 'PoolArea', 'PoolQC',\n",
       "       'Fence', 'MiscFeature', 'MiscVal', 'MoSold', 'YrSold', 'SaleType',\n",
       "       'SaleCondition'],\n",
       "      dtype='object')"
      ]
     },
     "execution_count": 14,
     "metadata": {},
     "output_type": "execute_result"
    }
   ],
   "source": [
    "ahp.columns"
   ]
  },
  {
   "cell_type": "code",
   "execution_count": null,
   "id": "19c858b5",
   "metadata": {
    "scrolled": true
   },
   "outputs": [],
   "source": []
  },
  {
   "cell_type": "code",
   "execution_count": 74,
   "id": "fb7b6a23",
   "metadata": {},
   "outputs": [],
   "source": [
    "clean_data = pd.read_csv('ML-Ames/data/Ames_HousePrice_cleaned.csv')"
   ]
  },
  {
   "cell_type": "code",
   "execution_count": 75,
   "id": "c649f006",
   "metadata": {},
   "outputs": [],
   "source": [
    "from sklearn.model_selection import train_test_split"
   ]
  },
  {
   "cell_type": "code",
   "execution_count": 79,
   "id": "6567a62a",
   "metadata": {},
   "outputs": [],
   "source": [
    "cl_y = clean_data['SalePrice']\n",
    "cl_x = clean_data.loc[:,clean_data.columns!='SalePrice']"
   ]
  },
  {
   "cell_type": "code",
   "execution_count": null,
   "id": "2daa612f",
   "metadata": {},
   "outputs": [],
   "source": []
  },
  {
   "cell_type": "code",
   "execution_count": 80,
   "id": "64086301",
   "metadata": {},
   "outputs": [
    {
     "data": {
      "text/plain": [
       "Index(['PID', 'GrLivArea', 'MSSubClass', 'MSZoning', 'LotArea', 'LotShape',\n",
       "       'LandContour', 'LotConfig', 'Neighborhood', 'BldgType', 'HouseStyle',\n",
       "       'OverallQual', 'OverallCond', 'YearBuilt', 'YearRemodAdd', 'MasVnrType',\n",
       "       'MasVnrArea', 'ExterQual', 'ExterCond', 'Foundation', 'BsmtQual',\n",
       "       'BsmtCond', 'BsmtExposure', 'BsmtFinType1', 'BsmtFinSF1',\n",
       "       'BsmtFinType2', 'BsmtFinSF2', 'TotalBsmtSF', 'HeatingQC', 'CentralAir',\n",
       "       'Electrical', '1stFlrSF', '2ndFlrSF', 'FullBath', 'BedroomAbvGr',\n",
       "       'KitchenQual', 'Fireplaces', 'GarageType', 'GarageArea', 'PavedDrive',\n",
       "       'OurdoorSpace', 'MoSold', 'YrSold', 'YrMoSold', 'AgeSold',\n",
       "       'SaleCondition'],\n",
       "      dtype='object')"
      ]
     },
     "execution_count": 80,
     "metadata": {},
     "output_type": "execute_result"
    }
   ],
   "source": [
    "cl_x.columns"
   ]
  },
  {
   "cell_type": "code",
   "execution_count": null,
   "id": "13e37eed",
   "metadata": {},
   "outputs": [],
   "source": []
  },
  {
   "cell_type": "code",
   "execution_count": 91,
   "id": "632dea6f",
   "metadata": {},
   "outputs": [],
   "source": [
    "cl_x_dummies = pd.get_dummies(cl_x, columns=['MSSubClass','MSZoning','LotShape','LandContour',\\\n",
    "        'LotConfig', 'Neighborhood', 'BldgType', 'HouseStyle','MasVnrType', 'ExterQual', \\\n",
    "        'ExterCond', 'Foundation', 'BsmtQual','BsmtCond', 'BsmtExposure', 'BsmtFinType1','BsmtFinType2',\n",
    "       'HeatingQC','CentralAir','KitchenQual',\\\n",
    "        'GarageType','PavedDrive','SaleCondition'],\\\n",
    "        prefix=['mssc','msz','ls','lc','lcf','nghbr','bt','hs','mvt','eq','ec','f','bq','bc','be','bf1','bf2',\\\n",
    "               'hq','ca','kq','gt','pd','sc'], prefix_sep='_',drop_first=True)"
   ]
  },
  {
   "cell_type": "code",
   "execution_count": 92,
   "id": "a82d0e4e",
   "metadata": {},
   "outputs": [
    {
     "data": {
      "text/plain": [
       "(2580, 149)"
      ]
     },
     "execution_count": 92,
     "metadata": {},
     "output_type": "execute_result"
    }
   ],
   "source": [
    "cl_x_dummies.shape"
   ]
  },
  {
   "cell_type": "code",
   "execution_count": 101,
   "id": "826f51b8",
   "metadata": {},
   "outputs": [
    {
     "data": {
      "text/plain": [
       "(2580,)"
      ]
     },
     "execution_count": 101,
     "metadata": {},
     "output_type": "execute_result"
    }
   ],
   "source": [
    "cl_y.shape"
   ]
  },
  {
   "cell_type": "code",
   "execution_count": 119,
   "id": "d0ddb301",
   "metadata": {},
   "outputs": [],
   "source": [
    "x_train, x_test, y_train, y_test = train_test_split(cl_x_dummies, cl_y, test_size=0.3, random_state=247,\\\n",
    "                        shuffle=True)"
   ]
  },
  {
   "cell_type": "code",
   "execution_count": 120,
   "id": "bb60204b",
   "metadata": {},
   "outputs": [],
   "source": [
    "x_train.to_csv('x_train_dummies.csv',index=False)\n",
    "y_train.to_csv('y_train_dummies.csv',index=False)\n",
    "x_test.to_csv('x_test_dummies.csv',index=False)\n",
    "y_test.to_csv('y_test_dummies.csv',index=False)"
   ]
  },
  {
   "cell_type": "code",
   "execution_count": 109,
   "id": "01e039da",
   "metadata": {},
   "outputs": [
    {
     "data": {
      "text/plain": [
       "Series([], Name: SalePrice, dtype: int64)"
      ]
     },
     "execution_count": 109,
     "metadata": {},
     "output_type": "execute_result"
    }
   ],
   "source": [
    "cl_y.loc[cl_y.isna()]"
   ]
  },
  {
   "cell_type": "code",
   "execution_count": null,
   "id": "56147053",
   "metadata": {},
   "outputs": [],
   "source": []
  }
 ],
 "metadata": {
  "kernelspec": {
   "display_name": "Python 3 (ipykernel)",
   "language": "python",
   "name": "python3"
  },
  "language_info": {
   "codemirror_mode": {
    "name": "ipython",
    "version": 3
   },
   "file_extension": ".py",
   "mimetype": "text/x-python",
   "name": "python",
   "nbconvert_exporter": "python",
   "pygments_lexer": "ipython3",
   "version": "3.9.7"
  }
 },
 "nbformat": 4,
 "nbformat_minor": 5
}
