{
 "cells": [
  {
   "cell_type": "code",
   "execution_count": 13,
   "metadata": {},
   "outputs": [],
   "source": [
    "import pandas as pd \n",
    "import numpy as np \n",
    "\n",
    "houseprice2 = pd.read_csv('Ames_HousePrice_cleaned.csv')\n",
    "\n",
    "houseprice2 = houseprice2[houseprice2['PID']!=908154205]\n",
    "\n",
    "hood_dummydf = pd.get_dummies(houseprice2, columns=['Neighborhood'],\\\n",
    "        prefix=['nghbr'], prefix_sep='_',drop_first=True)\n",
    "\n",
    "\n",
    "hood_dummydf\n",
    "\n",
    "hood_dummydf.to_csv('hood_dummy.csv')"
   ]
  },
  {
   "cell_type": "code",
   "execution_count": null,
   "metadata": {},
   "outputs": [],
   "source": []
  }
 ],
 "metadata": {
  "interpreter": {
   "hash": "f7c0c0efd0cf694d29f877fb37288d98b00d321b0601d36c2a80713e40ec54b1"
  },
  "kernelspec": {
   "display_name": "Python 3.9.7 ('base')",
   "language": "python",
   "name": "python3"
  },
  "language_info": {
   "codemirror_mode": {
    "name": "ipython",
    "version": 3
   },
   "file_extension": ".py",
   "mimetype": "text/x-python",
   "name": "python",
   "nbconvert_exporter": "python",
   "pygments_lexer": "ipython3",
   "version": "3.9.7"
  },
  "orig_nbformat": 4
 },
 "nbformat": 4,
 "nbformat_minor": 2
}
